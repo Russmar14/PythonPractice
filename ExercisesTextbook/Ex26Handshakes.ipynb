{
 "cells": [
  {
   "cell_type": "markdown",
   "metadata": {},
   "source": [
    "There is only one handshake that can happen between two people. Between three people, there are three possible handshaking pairs. Between four people, there are six handshakes; five people, ten handshakes, and so on. This exercise explores the full range of possible handshaking combinations with nested for loops.\n",
    "\n",
    "Write a function named printHandshakes() with a list parameter named people which will be a list of strings of people’s names. The function prints out 'X shakes hands with Y', where X and Y are every possible pair of handshakes between the people in the list. No duplicates are permitted: if “Alice shakes hands with Bob” appears in the output, then “Bob shakes hands with Alice” should not appear.\n",
    "\n",
    "For example, printHandshakes(['Alice', 'Bob', 'Carol', 'David']) should print:\n",
    "\n",
    "Alice shakes hands with Bob\n",
    "Alice shakes hands with Carol\n",
    "Alice shakes hands with David\n",
    "Bob shakes hands with Carol\n",
    "Bob shakes hands with David\n",
    "Carol shakes hands with David\n",
    "The printHandshakes() function must also return an integer of the number of handshakes.\n",
    "\n",
    "Prerequisite concepts: for loops, range() with two arguments, len(), augmented assignment operators"
   ]
  },
  {
   "cell_type": "code",
   "execution_count": 16,
   "metadata": {},
   "outputs": [
    {
     "name": "stdout",
     "output_type": "stream",
     "text": [
      "Alice shakes hands with Bob\n",
      "Alice shakes hands with Bob\n",
      "Alice shakes hands with Carol\n",
      "Bob shakes hands with Carol\n",
      "Alice shakes hands with Bob\n",
      "Alice shakes hands with Carol\n",
      "Alice shakes hands with David\n",
      "Bob shakes hands with Carol\n",
      "Bob shakes hands with David\n",
      "Carol shakes hands with David\n"
     ]
    }
   ],
   "source": [
    "def printHandshakes(people):\n",
    "    #track count of handshakes total\n",
    "    counter = 0\n",
    "    #iterate over range of indices in people list\n",
    "    for i in range(len(people)):\n",
    "        #iterate over inner list of the indices following i (skip people[i])\n",
    "        for j in range(i+1,len(people)):\n",
    "            #as long as they're not duplicates, it's a handshake, can't shake your own hand\n",
    "            if i != j:\n",
    "                #print the required statement\n",
    "                print(f'{people[i]} shakes hands with {people[j]}')\n",
    "                #increment handshakes counter by one, this one is valid\n",
    "                counter +=1\n",
    "    #return handshake counter\n",
    "    return counter\n",
    "    \n",
    "\n",
    "        \n",
    "#validity checks\n",
    "assert printHandshakes(['Alice', 'Bob']) == 1\n",
    "assert printHandshakes(['Alice', 'Bob', 'Carol']) == 3\n",
    "assert printHandshakes(['Alice', 'Bob', 'Carol', 'David']) == 6\n",
    "\n"
   ]
  }
 ],
 "metadata": {
  "interpreter": {
   "hash": "552eff63ae26b1f7715ef9da8940d59e9923cc9f3696b79d9372b91e56e1a4b8"
  },
  "kernelspec": {
   "display_name": "Python 3.9.13",
   "language": "python",
   "name": "python3"
  },
  "language_info": {
   "codemirror_mode": {
    "name": "ipython",
    "version": 3
   },
   "file_extension": ".py",
   "mimetype": "text/x-python",
   "name": "python",
   "nbconvert_exporter": "python",
   "pygments_lexer": "ipython3",
   "version": "3.9.13"
  },
  "orig_nbformat": 4
 },
 "nbformat": 4,
 "nbformat_minor": 2
}
