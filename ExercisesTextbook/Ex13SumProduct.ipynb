{
 "cells": [
  {
   "cell_type": "markdown",
   "metadata": {},
   "source": [
    "Write two functions named calculateSum() and calculateProduct(). They both have a parameter named numbers, which will be a list of integer or floating-point values. The calculateSum() function adds these numbers and returns the sum while the calculateProduct() function multiplies these numbers and returns the product. If the list passed to calculateSum() is empty, the function returns 0. If the list passed to calculateProduct() is empty, the function returns 1. Since this function replicates Python’s sum() function, your solution shouldn’t call.\n",
    "\n",
    "http://inventwithpython.com/pythongently/exercise13/"
   ]
  },
  {
   "cell_type": "code",
   "execution_count": 10,
   "metadata": {},
   "outputs": [
    {
     "name": "stdout",
     "output_type": "stream",
     "text": [
      "-33.696\n"
     ]
    }
   ],
   "source": [
    "def calculateSum(numbers):\n",
    "    if len(numbers) == 0:\n",
    "        return 0\n",
    "    sum = 0\n",
    "    for i in numbers:\n",
    "        sum += float(i) \n",
    "    return sum\n",
    "\n",
    "calculateSum([1,13,2,-4,3])\n",
    "\n",
    "def calculateProduct(numbers):\n",
    "    if len(numbers) == 0:\n",
    "        return 1\n",
    "    prod = 1\n",
    "    for i in numbers:\n",
    "        prod *= float(i) \n",
    "    return prod\n",
    "\n",
    "\n",
    "print(calculateProduct([1,13,2,1,3,12,0.4,-.3,0.3]))\n",
    "\n",
    "assert calculateSum([]) == 0\n",
    "assert calculateSum([2, 4, 6, 8, 10]) == 30\n",
    "assert calculateProduct([]) == 1\n",
    "assert calculateProduct([2, 4, 6, 8, 10]) == 3840"
   ]
  }
 ],
 "metadata": {
  "interpreter": {
   "hash": "552eff63ae26b1f7715ef9da8940d59e9923cc9f3696b79d9372b91e56e1a4b8"
  },
  "kernelspec": {
   "display_name": "Python 3.9.13",
   "language": "python",
   "name": "python3"
  },
  "language_info": {
   "codemirror_mode": {
    "name": "ipython",
    "version": 3
   },
   "file_extension": ".py",
   "mimetype": "text/x-python",
   "name": "python",
   "nbconvert_exporter": "python",
   "pygments_lexer": "ipython3",
   "version": "3.9.13"
  },
  "orig_nbformat": 4
 },
 "nbformat": 4,
 "nbformat_minor": 2
}
