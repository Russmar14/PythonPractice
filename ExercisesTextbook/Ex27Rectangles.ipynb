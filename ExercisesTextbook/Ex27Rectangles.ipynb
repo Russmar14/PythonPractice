{
 "cells": [
  {
   "cell_type": "markdown",
   "metadata": {},
   "source": [
    "Draw Rectangle\n",
    "Write a drawRectangle() function with two integer parameters: width and height. The function doesn’t return any values but rather prints a rectangle with the given number of hashtags in the horizontal and vertical directions.\n",
    "\n",
    "There are no Python assert statements to check the correctness of your program. Instead, you can visually inspect the output yourself. For example, calling drawRectangle(10, 4) should produce the following output:\n",
    "\n",
    "##########\n",
    "\n",
    "##########\n",
    "\n",
    "##########\n",
    "\n",
    "##########\n",
    "If either the width or height parameter is 0 or a negative number, the function should print nothing."
   ]
  },
  {
   "cell_type": "code",
   "execution_count": 7,
   "metadata": {},
   "outputs": [
    {
     "name": "stdout",
     "output_type": "stream",
     "text": [
      "##########\n",
      "##########\n",
      "##########\n",
      "##########\n"
     ]
    }
   ],
   "source": [
    "#this is my solution, differs from the textbook\n",
    "def drawRectangle(width,height):\n",
    "    #exclude invalid inputs\n",
    "    if width <1 or height <1 :\n",
    "        return\n",
    "    #just print a 'width'long string of #s for each row in 'height'\n",
    "    for i in range(height):\n",
    "        print('#'*width)\n",
    "\n",
    "drawRectangle(10,4)"
   ]
  },
  {
   "cell_type": "code",
   "execution_count": 11,
   "metadata": {},
   "outputs": [
    {
     "name": "stdout",
     "output_type": "stream",
     "text": [
      "################\n",
      "################\n",
      "################\n",
      "################\n",
      "####\n",
      "####\n",
      "####\n",
      "####\n",
      "####\n",
      "####\n",
      "####\n",
      "####\n",
      "###\n",
      "###\n",
      "###\n",
      "##\n",
      "##\n",
      "################\n",
      "################\n",
      "################\n",
      "################\n",
      "####\n",
      "####\n",
      "####\n",
      "####\n",
      "####\n",
      "####\n",
      "####\n",
      "####\n",
      "###\n",
      "###\n",
      "###\n",
      "##\n",
      "##\n"
     ]
    }
   ],
   "source": [
    "#Textbook version\n",
    "\n",
    "def drawRectangle2(width, height):\n",
    "    # Special case: If width or height is less than 1, draw nothing:\n",
    "    if width < 1 or height < 1:\n",
    "        return\n",
    "\n",
    "    # Loop over each row:\n",
    "    for row in range(height):\n",
    "        # Loop over each column in this row:\n",
    "        for column in range(width):\n",
    "            # Print a hashtag:\n",
    "            print('#', end='')\n",
    "        # At the end of the row, print a newline:\n",
    "        print()\n",
    "\n",
    "#validity checks\n",
    "drawRectangle2(16, 4)\n",
    "drawRectangle2(4, 8)\n",
    "drawRectangle2(3, 3)\n",
    "drawRectangle2(2, 2)\n",
    "\n",
    "#compare to my version\n",
    "drawRectangle(16, 4)\n",
    "drawRectangle(4, 8)\n",
    "drawRectangle(3, 3)\n",
    "drawRectangle(2, 2)"
   ]
  }
 ],
 "metadata": {
  "interpreter": {
   "hash": "552eff63ae26b1f7715ef9da8940d59e9923cc9f3696b79d9372b91e56e1a4b8"
  },
  "kernelspec": {
   "display_name": "Python 3.9.13",
   "language": "python",
   "name": "python3"
  },
  "language_info": {
   "codemirror_mode": {
    "name": "ipython",
    "version": 3
   },
   "file_extension": ".py",
   "mimetype": "text/x-python",
   "name": "python",
   "nbconvert_exporter": "python",
   "pygments_lexer": "ipython3",
   "version": "3.9.13"
  },
  "orig_nbformat": 4
 },
 "nbformat": 4,
 "nbformat_minor": 2
}
