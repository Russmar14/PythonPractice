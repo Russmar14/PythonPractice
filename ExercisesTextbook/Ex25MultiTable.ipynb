{
 "cells": [
  {
   "cell_type": "markdown",
   "metadata": {},
   "source": [
    "Write a program that displays a multiplication table that looks like this:\n",
    "\n",
    "  | 1  2  3  4  5  6  7  8  9 10\n",
    "--+------------------------------\n",
    " 1| 1  2  3  4  5  6  7  8  9 10\n",
    " 2| 2  4  6  8 10 12 14 16 18 20\n",
    " 3| 3  6  9 12 15 18 21 24 27 30\n",
    " 4| 4  8 12 16 20 24 28 32 36 40\n",
    " 5| 5 10 15 20 25 30 35 40 45 50\n",
    " 6| 6 12 18 24 30 36 42 48 54 60\n",
    " 7| 7 14 21 28 35 42 49 56 63 70\n",
    " 8| 8 16 24 32 40 48 56 64 72 80\n",
    " 9| 9 18 27 36 45 54 63 72 81 90\n",
    "10|10 20 30 40 50 60 70 80 90 100\n",
    "The number labels along the top and left sides are the numbers to multiply, and where their column and row intersect is the product of those numbers. Notice that the single-digit numbers are padded with spaces to keep them aligned in the same column. You may use Python’s rjust() string method to provide this padding. This method returns a string with space characters added on the left side to right-justify the text, and the Solution Design section explains how it works.\n",
    "\n",
    "The line along the top side of the table is made up of minus sign characters. The line along the left side is made up of vertical pipe characters (above the Enter key on the keyboard). A plus sign marks their intersection. Your solution is correct if the output matches the above text of the multiplication table. You can use a simple print() call for the number labels and lines at the top of the table. However, don’t hard code the text of the multiplication table into your program: your program should be more than just a bunch of print() calls."
   ]
  },
  {
   "cell_type": "code",
   "execution_count": 69,
   "metadata": {},
   "outputs": [
    {
     "name": "stdout",
     "output_type": "stream",
     "text": [
      "  |1  2  3  4  5  6  7 8  9  10\n",
      "--+-----------------------------\n",
      "1 | 1  2  3  4  5  6  7  8  9 10 \n",
      "2 | 2  4  6  8 10 12 14 16 18 20 \n",
      "3 | 3  6  9 12 15 18 21 24 27 30 \n",
      "4 | 4  8 12 16 20 24 28 32 36 40 \n",
      "5 | 5 10 15 20 25 30 35 40 45 50 \n",
      "6 | 6 12 18 24 30 36 42 48 54 60 \n",
      "7 | 7 14 21 28 35 42 49 56 63 70 \n",
      "8 | 8 16 24 32 40 48 56 64 72 80 \n",
      "9 | 9 18 27 36 45 54 63 72 81 90 \n",
      "10 |10 20 30 40 50 60 70 80 90 100 \n"
     ]
    }
   ],
   "source": [
    "def multiTable():\n",
    "    #just hardcoding the firt line\n",
    "    print('  |1  2  3  4  5  6  7 8  9  10\\n--+-----------------------------')\n",
    "    #for row between 1 and 10\n",
    "    for i in range(1,11):\n",
    "        #store the line in a string object named line\n",
    "        line = ''\n",
    "        #for column between 1-10\n",
    "        for j in range(1,11):\n",
    "            #our product of column * row\n",
    "            product = i*j\n",
    "            #these numbers need extra space for formatting purposes\n",
    "            if product < 10:\n",
    "                line += ' '\n",
    "                line += str(product)\n",
    "                line += ' '\n",
    "            #these larger numbers don't need extra spacing\n",
    "            #this and above are equally valid ways of concatenating spaces to string obj\n",
    "            else:\n",
    "                line += str(product) + ' '\n",
    "        #print each 'line' object for each col\n",
    "        print(f'{i} |{line}')\n",
    "    \n",
    "\n",
    "\n",
    "multiTable()"
   ]
  }
 ],
 "metadata": {
  "interpreter": {
   "hash": "552eff63ae26b1f7715ef9da8940d59e9923cc9f3696b79d9372b91e56e1a4b8"
  },
  "kernelspec": {
   "display_name": "Python 3.9.13",
   "language": "python",
   "name": "python3"
  },
  "language_info": {
   "codemirror_mode": {
    "name": "ipython",
    "version": 3
   },
   "file_extension": ".py",
   "mimetype": "text/x-python",
   "name": "python",
   "nbconvert_exporter": "python",
   "pygments_lexer": "ipython3",
   "version": "3.9.13"
  },
  "orig_nbformat": 4
 },
 "nbformat": 4,
 "nbformat_minor": 2
}
