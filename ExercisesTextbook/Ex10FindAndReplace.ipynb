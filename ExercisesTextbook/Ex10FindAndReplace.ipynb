{
 "cells": [
  {
   "cell_type": "code",
   "execution_count": 10,
   "metadata": {},
   "outputs": [],
   "source": [
    "#Write a findAndReplace() function that has three parameters: \n",
    "# text is the string with text to be replaced, oldText is the text \n",
    "# to be replaced, and newText is the replacement text. Keep in mind \n",
    "# that this function must be case-sensitive: if you are replacing 'dog' \n",
    "# with 'fox', then the 'DOG' in 'MY DOG JONESY' won’t be replaced.\n",
    "\n",
    "def findAndReplace(text, oldText, newText):\n",
    "    #create replacedText string obj for function to return\n",
    "    replacedText = ''\n",
    "    #track string index with i\n",
    "    i = 0\n",
    "    while len(replacedText) != len(text):\n",
    "        #if this len(oldText)long string matches the oldText, replace w/newText\n",
    "        if text[i:i+len(oldText)] == oldText:\n",
    "            replacedText += newText\n",
    "            #Note!!!: increment index by len(oldText) to skip those indices\n",
    "            i += len(oldText)\n",
    "        #if not a match, just add the string value at index i and increment by 1\n",
    "        else: \n",
    "            replacedText += text[i]\n",
    "            i +=1\n",
    "    return replacedText\n",
    "\n",
    "assert findAndReplace('The fox', 'fox', 'dog') == 'The dog'\n",
    "assert findAndReplace('fox', 'fox', 'dog') == 'dog'\n",
    "assert findAndReplace('Firefox', 'fox', 'dog') == 'Firedog'\n",
    "assert findAndReplace('foxfox', 'fox', 'dog') == 'dogdog'\n",
    "assert findAndReplace('The Fox and fox.', 'fox', 'dog') == 'The Fox and dog.'\n",
    "\n",
    "\n",
    "\n",
    "\n"
   ]
  },
  {
   "cell_type": "markdown",
   "metadata": {},
   "source": []
  }
 ],
 "metadata": {
  "interpreter": {
   "hash": "552eff63ae26b1f7715ef9da8940d59e9923cc9f3696b79d9372b91e56e1a4b8"
  },
  "kernelspec": {
   "display_name": "Python 3.9.13",
   "language": "python",
   "name": "python3"
  },
  "language_info": {
   "codemirror_mode": {
    "name": "ipython",
    "version": 3
   },
   "file_extension": ".py",
   "mimetype": "text/x-python",
   "name": "python",
   "nbconvert_exporter": "python",
   "pygments_lexer": "ipython3",
   "version": "3.9.13"
  },
  "orig_nbformat": 4
 },
 "nbformat": 4,
 "nbformat_minor": 2
}
