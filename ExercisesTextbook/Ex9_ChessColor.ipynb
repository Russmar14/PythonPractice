{
 "cells": [
  {
   "cell_type": "code",
   "execution_count": 19,
   "metadata": {},
   "outputs": [],
   "source": [
    "#this function takes a column and row of a chess board and tells you if\n",
    "#its color is black or white\n",
    "#Returns a blank string if values out of bounds\n",
    "def getChessSquareColor(column,row):\n",
    "    val_check = range(0,8)\n",
    "    if column not in val_check or row not in val_check:\n",
    "        return ''\n",
    "    column_check = column % 2\n",
    "    row_check = row % 2\n",
    "    #print(row_check,column_check)\n",
    "    if column_check == row_check:\n",
    "        return 'white'\n",
    "    else:\n",
    "        return 'black'\n",
    "\n",
    "\n",
    "#checks that the code works correctly\n",
    "    \n",
    "assert getChessSquareColor(0, 0) == 'white'\n",
    "assert getChessSquareColor(1, 0) == 'black'\n",
    "assert getChessSquareColor(0, 1) == 'black'\n",
    "assert getChessSquareColor(7, 7) == 'white'\n",
    "assert getChessSquareColor(0, 8) == ''\n",
    "assert getChessSquareColor(2, 9) == ''"
   ]
  }
 ],
 "metadata": {
  "interpreter": {
   "hash": "552eff63ae26b1f7715ef9da8940d59e9923cc9f3696b79d9372b91e56e1a4b8"
  },
  "kernelspec": {
   "display_name": "Python 3.9.13",
   "language": "python",
   "name": "python3"
  },
  "language_info": {
   "codemirror_mode": {
    "name": "ipython",
    "version": 3
   },
   "file_extension": ".py",
   "mimetype": "text/x-python",
   "name": "python",
   "nbconvert_exporter": "python",
   "pygments_lexer": "ipython3",
   "version": "3.9.13"
  },
  "orig_nbformat": 4
 },
 "nbformat": 4,
 "nbformat_minor": 2
}
