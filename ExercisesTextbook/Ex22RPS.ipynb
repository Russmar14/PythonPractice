{
 "cells": [
  {
   "cell_type": "markdown",
   "metadata": {},
   "source": [
    "Rock, paper, scissors is a popular hand game for two players. The two players simultaneously choose one of the three possible moves and determine the winner of the game: rock beats scissors, paper beats rock, and scissors beats paper. This exercise involves determining a game’s outcome given the moves of the two players.\n",
    "\n",
    "Write a rpsWinner() function with parameters player1 and player2. These parameters are passed one of the strings 'rock', 'paper', or 'scissors' representing that player’s move. If this results in player 1 winning, the function returns 'player one'. If this results in player 2 winning, the function returns 'player two'. Otherwise, the function returns 'tie'.\n"
   ]
  },
  {
   "cell_type": "code",
   "execution_count": 2,
   "metadata": {},
   "outputs": [],
   "source": [
    "def rpsWinner(player1,player2):\n",
    "    if player1 == player2:\n",
    "        answer = 'tie'\n",
    "    elif player1 == 'rock' and player2 == 'scissors':\n",
    "        answer = 'player one'\n",
    "    elif player1 == 'scissors' and player2 == 'rock':\n",
    "        answer = 'player two'\n",
    "    elif player1 == 'rock' and player2 == 'paper':\n",
    "        answer = 'player two'\n",
    "    elif player1 == 'paper' and player2 == 'rock':\n",
    "        answer = 'player one'\n",
    "    elif player1 == 'scissors' and player2 == 'paper':\n",
    "        answer = 'player one'\n",
    "    elif player1 == 'paper' and player2 == 'scissors':\n",
    "        answer = 'player two'\n",
    "    return answer\n",
    "\n",
    "assert rpsWinner('rock', 'paper') == 'player two'\n",
    "assert rpsWinner('rock', 'scissors') == 'player one'\n",
    "assert rpsWinner('paper', 'scissors') == 'player two'\n",
    "assert rpsWinner('paper', 'rock') == 'player one'\n",
    "assert rpsWinner('scissors', 'rock') == 'player two'\n",
    "assert rpsWinner('scissors', 'paper') == 'player one'\n",
    "assert rpsWinner('rock', 'rock') == 'tie'\n",
    "assert rpsWinner('paper', 'paper') == 'tie'\n",
    "assert rpsWinner('scissors', 'scissors') == 'tie'  "
   ]
  }
 ],
 "metadata": {
  "interpreter": {
   "hash": "552eff63ae26b1f7715ef9da8940d59e9923cc9f3696b79d9372b91e56e1a4b8"
  },
  "kernelspec": {
   "display_name": "Python 3.9.13",
   "language": "python",
   "name": "python3"
  },
  "language_info": {
   "codemirror_mode": {
    "name": "ipython",
    "version": 3
   },
   "file_extension": ".py",
   "mimetype": "text/x-python",
   "name": "python",
   "nbconvert_exporter": "python",
   "pygments_lexer": "ipython3",
   "version": "3.9.13"
  },
  "orig_nbformat": 4
 },
 "nbformat": 4,
 "nbformat_minor": 2
}
