{
 "cells": [
  {
   "cell_type": "code",
   "execution_count": 13,
   "metadata": {},
   "outputs": [],
   "source": [
    "#Write a getHoursMinutesSeconds() function that has a totalSeconds \n",
    "# parameter. The argument for this parameter will be the number of \n",
    "# seconds to be translated into the number of hours, minutes, and seconds. \n",
    "# If the amount for the hours, minutes, or seconds is zero, don’t show it: \n",
    "# the function should return '10m' rather than '0h 10m 0s'. The only \n",
    "# exception is that getHoursMinutesSeconds(0) should return '0s'.\n",
    "\n",
    "def getHoursMinutesSeconds(totalSeconds):\n",
    "    #use hours, minutes and seconds variables to track seconds left\n",
    "    hours = 0\n",
    "    minutes = 0\n",
    "    seconds = 0\n",
    "\n",
    "    #special cases checks:\n",
    "    if totalSeconds == 0:\n",
    "        return '0s'\n",
    "    while totalSeconds > 0:\n",
    "        #check for /calculate hours\n",
    "        if totalSeconds >= 3600:\n",
    "            hours +=1\n",
    "            totalSeconds -=3600\n",
    "        #check for /calculate minutes\n",
    "        elif totalSeconds >= 60:\n",
    "            minutes +=1\n",
    "            totalSeconds -=60\n",
    "        #check for/calculate secs\n",
    "        elif totalSeconds > 0:\n",
    "            seconds += totalSeconds\n",
    "            totalSeconds -= totalSeconds\n",
    "    #save times to a list called 'time'\n",
    "    time = []\n",
    "    #conditionally add time and respective letter based on results\n",
    "    if hours > 0:\n",
    "        time.append(str(hours) + 'h')\n",
    "    if minutes > 0: \n",
    "        time.append(str(minutes) + 'm')\n",
    "    if seconds> 0:\n",
    "        time.append(str(seconds) + 's')\n",
    "    #give the result as a string\n",
    "    return ' '.join(time)\n",
    "    \n",
    "#checks\n",
    "assert getHoursMinutesSeconds(30) == '30s'\n",
    "assert getHoursMinutesSeconds(60) == '1m'\n",
    "assert getHoursMinutesSeconds(90) == '1m 30s'\n",
    "assert getHoursMinutesSeconds(3600) == '1h'\n",
    "assert getHoursMinutesSeconds(3601) == '1h 1s'\n",
    "assert getHoursMinutesSeconds(3661) == '1h 1m 1s'\n",
    "assert getHoursMinutesSeconds(90042) == '25h 42s'\n",
    "assert getHoursMinutesSeconds(0) == '0s'\n",
    "\n"
   ]
  }
 ],
 "metadata": {
  "interpreter": {
   "hash": "552eff63ae26b1f7715ef9da8940d59e9923cc9f3696b79d9372b91e56e1a4b8"
  },
  "kernelspec": {
   "display_name": "Python 3.9.13",
   "language": "python",
   "name": "python3"
  },
  "language_info": {
   "codemirror_mode": {
    "name": "ipython",
    "version": 3
   },
   "file_extension": ".py",
   "mimetype": "text/x-python",
   "name": "python",
   "nbconvert_exporter": "python",
   "pygments_lexer": "ipython3",
   "version": "3.9.13"
  },
  "orig_nbformat": 4
 },
 "nbformat": 4,
 "nbformat_minor": 2
}
