{
 "cells": [
  {
   "cell_type": "markdown",
   "metadata": {},
   "source": [
    "Write a median() function that has a numbers parameter. This function returns the statistical median of the numbers list. The median of an odd-length list is the number in the middlemost number when the list is in sorted order. If the list has an even length, the median is the average of the two middlemost numbers when the list is in sorted order. Feel free to use Python’s built-in sort() method to sort the numbers list.\n",
    "\n",
    "Passing an empty list to mode() should cause it to return None.\n",
    "\n",
    "Prerequisite concepts: len(), for loops, augmented assignment operators, integer division, modulo operator, indexes\n",
    "\n"
   ]
  },
  {
   "cell_type": "code",
   "execution_count": 17,
   "metadata": {},
   "outputs": [],
   "source": [
    "\n",
    "def median(numbers):\n",
    "    if len(numbers) == 0:\n",
    "        return None\n",
    "    sorted_numbers = sorted(numbers)\n",
    "    #if there are an even number of members in list\n",
    "    if len(numbers) % 2 == 0:\n",
    "        #indices are middle two numbers in sorted list\n",
    "        median_idx1,median_idx2 = int(len(numbers)/2), int((len(numbers)/2) - 1)\n",
    "        #answer calls these values via index (in sorted list) and averages them\n",
    "        answer = (sorted_numbers[median_idx1] + sorted_numbers[median_idx2])/2\n",
    "    #if there's an odd number of numbers in numbers list\n",
    "    else:\n",
    "        #then split list in half and round down for middle value\n",
    "        median_idx3 = len(numbers)//2\n",
    "        #again call this index value in sorted list\n",
    "        answer = sorted_numbers[median_idx3]\n",
    "    return answer\n",
    "\n",
    "\n",
    "\n",
    "assert median([]) == None\n",
    "assert median([1, 2, 3]) == 2\n",
    "assert median([3, 7, 10, 4, 1, 9, 6, 5, 2, 8]) == 5.5\n",
    "assert median([3, 7, 10, 4, 1, 9, 6, 2, 8]) == 6\n",
    "import random\n",
    "random.seed(42)\n",
    "testData = [3, 7, 10, 4, 1, 9, 6, 2, 8]\n",
    "for i in range(1000):\n",
    "    random.shuffle(testData)\n",
    "    assert median(testData) == 6\n"
   ]
  }
 ],
 "metadata": {
  "interpreter": {
   "hash": "552eff63ae26b1f7715ef9da8940d59e9923cc9f3696b79d9372b91e56e1a4b8"
  },
  "kernelspec": {
   "display_name": "Python 3.9.13",
   "language": "python",
   "name": "python3"
  },
  "language_info": {
   "codemirror_mode": {
    "name": "ipython",
    "version": 3
   },
   "file_extension": ".py",
   "mimetype": "text/x-python",
   "name": "python",
   "nbconvert_exporter": "python",
   "pygments_lexer": "ipython3",
   "version": "3.9.13"
  },
  "orig_nbformat": 4
 },
 "nbformat": 4,
 "nbformat_minor": 2
}
