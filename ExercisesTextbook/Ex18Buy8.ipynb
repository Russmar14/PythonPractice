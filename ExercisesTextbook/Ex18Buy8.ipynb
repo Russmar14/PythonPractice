{
 "cells": [
  {
   "cell_type": "markdown",
   "metadata": {},
   "source": [
    "Let’s say a coffee shop punches holes into a customer’s card each time they buy a coffee. After the card has eight hole punches, the customer can use the card to get their 9th cup of coffee for free. In this exercise, you’ll translate this into a simple calculation to see how much a given quantity of coffees costs while considering this buy-8-get-1-free system.\n",
    "\n",
    "# Description:\n",
    "\n",
    "Write a function named getCostOfCoffee() that has a parameters named numberOfCoffees and pricePerCoffee. Given this information, the function returns the total cost of the coffee order. This is not a simple multiplication of cost and quantity, however, because the coffee shop has an offer where you get one free coffee for every eight coffees you buy.\n",
    "\n",
    "For example, buying eight coffees for $2.50 each costs $20 (or 8 × 2.5). But buying nine coffees also costs $20, since the first eight makes the ninth coffee free. Buying ten coffees calculates as follows: $20 for the first eight coffees, a free ninth coffee, and $2.50 for the tenth coffee for a total of $22.50.\n",
    "\n"
   ]
  },
  {
   "cell_type": "code",
   "execution_count": 5,
   "metadata": {},
   "outputs": [],
   "source": [
    "def getCostOfCoffee(numberOfCoffees,pricePerCoffee):\n",
    "    #track cost\n",
    "    cost = 0\n",
    "    #until we run out of coffees to loop through:\n",
    "    while numberOfCoffees > 0:\n",
    "        #if this coffee is free... add 0 and subtract 1 from numberOfCoffees\n",
    "        if numberOfCoffees % 9 == 0:\n",
    "            cost +=0\n",
    "            numberOfCoffees -= 1\n",
    "        #if this coffee is not free... add pricePerCoffee and subtract 1 \n",
    "        #from numberOfCoffees\n",
    "        else:\n",
    "            cost += pricePerCoffee\n",
    "            numberOfCoffees -= 1\n",
    "    return cost\n",
    "\n",
    "assert getCostOfCoffee(7, 2.50) == 17.50\n",
    "assert getCostOfCoffee(8, 2.50) == 20\n",
    "assert getCostOfCoffee(9, 2.50) == 20\n",
    "assert getCostOfCoffee(10, 2.50) == 22.50\n",
    " \n",
    "for i in range(1, 4):\n",
    "    assert getCostOfCoffee(0, i) == 0\n",
    "    assert getCostOfCoffee(8, i) == 8 * i\n",
    "    assert getCostOfCoffee(9, i) == 8 * i\n",
    "    assert getCostOfCoffee(18, i) == 16 * i\n",
    "    assert getCostOfCoffee(19, i) == 17 * i\n",
    "    assert getCostOfCoffee(30, i) == 27 * i"
   ]
  }
 ],
 "metadata": {
  "interpreter": {
   "hash": "552eff63ae26b1f7715ef9da8940d59e9923cc9f3696b79d9372b91e56e1a4b8"
  },
  "kernelspec": {
   "display_name": "Python 3.9.13",
   "language": "python",
   "name": "python3"
  },
  "language_info": {
   "codemirror_mode": {
    "name": "ipython",
    "version": 3
   },
   "file_extension": ".py",
   "mimetype": "text/x-python",
   "name": "python",
   "nbconvert_exporter": "python",
   "pygments_lexer": "ipython3",
   "version": "3.9.13"
  },
  "orig_nbformat": 4
 },
 "nbformat": 4,
 "nbformat_minor": 2
}
