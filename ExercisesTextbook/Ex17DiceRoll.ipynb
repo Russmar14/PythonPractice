{
 "cells": [
  {
   "cell_type": "markdown",
   "metadata": {},
   "source": [
    "This exercise uses Python’s random number generating functions to simulate rolling any number of six-sided dice and returning the total sum of the dice roll. This exercise covers random number generation with Python’s random module.\n",
    "\n",
    "Write a rollDice() function with a numberOfDice parameter that represents the number of six-sided dice. The function returns the sum of all of the dice rolls. For this exercise you must import Python’s random module to call its random.randint() function for this exercise."
   ]
  },
  {
   "cell_type": "code",
   "execution_count": 77,
   "metadata": {},
   "outputs": [],
   "source": [
    "import random \n",
    "def rollDice(numberOfDice):\n",
    "    #check for zero exception\n",
    "    if numberOfDice == 0:\n",
    "        return 0\n",
    "    #keep track of sum of rolls\n",
    "    sum = 0\n",
    "    #iterate through rolls in range(#dice) aka as many iterations as number of dice\n",
    "    for die in range(numberOfDice):\n",
    "        #increment sum by RANDOM value between 1 and 6\n",
    "        sum += random.randint(1,6)\n",
    "    return sum\n",
    "\n",
    "assert rollDice(0) == 0\n",
    "assert rollDice(1000) != rollDice(1000)\n",
    "for i in range(1000):\n",
    "    assert 1 <= rollDice(1) <= 6\n",
    "    assert 2 <= rollDice(2) <= 12\n",
    "    assert 3 <= rollDice(3) <= 18\n",
    "    assert 100 <= rollDice(100) <= 600"
   ]
  }
 ],
 "metadata": {
  "interpreter": {
   "hash": "552eff63ae26b1f7715ef9da8940d59e9923cc9f3696b79d9372b91e56e1a4b8"
  },
  "kernelspec": {
   "display_name": "Python 3.9.13",
   "language": "python",
   "name": "python3"
  },
  "language_info": {
   "codemirror_mode": {
    "name": "ipython",
    "version": 3
   },
   "file_extension": ".py",
   "mimetype": "text/x-python",
   "name": "python",
   "nbconvert_exporter": "python",
   "pygments_lexer": "ipython3",
   "version": "3.9.13"
  },
  "orig_nbformat": 4
 },
 "nbformat": 4,
 "nbformat_minor": 2
}
