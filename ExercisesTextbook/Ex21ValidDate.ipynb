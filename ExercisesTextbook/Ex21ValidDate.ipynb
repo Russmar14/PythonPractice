{
 "cells": [
  {
   "cell_type": "markdown",
   "metadata": {},
   "source": [
    "You can represent a date with three integers for the year, month, and day, but this doesn’t mean that any integers represent a valid date. After all, there is no 13th month of the year or 32nd day of any month. This exercise has you check if a year/month/day combination is valid, given that different months have different numbers of days. You’ll use the solution you wrote for Exercise #20, “Leap Year” as part of the solution for this exercise, so finish Exercise #20 before attempting this one.\n",
    "\n",
    "Write an isValidDate() function with parameters year, month, and day. The function should return True if the integers provided for these parameters represent a valid date. Otherwise, the function returns False. Months are represented by the integers 1 (for January) to 12 (for December) and days are represented by integers 1 up to 28, 29, 30, or 31 depending on the month and year. Your solution should import your leapyear.py program from Exercise #20 for its isLeapYear() function, as February 29th is a valid date on leap years.\n",
    "\n",
    "September, April, June, and November have 30 days. The rest have 31, except February which has 28 days. On leap years, February has 29 days.\n",
    "\n"
   ]
  },
  {
   "cell_type": "markdown",
   "metadata": {},
   "source": [
    "I also completed this project in CIS 500 at Grand Valley, but I'll include this solution here to demonstrate the logic. Same idea as leap year, catch easy failures then narrow down if each value (month, day, year) is valid"
   ]
  },
  {
   "cell_type": "code",
   "execution_count": 1,
   "metadata": {},
   "outputs": [],
   "source": [
    "\n",
    "# Import the leapyear module for its isLeapYear() function:\n",
    "import leapyear\n",
    "\n",
    "def isValidDate(year, month, day):\n",
    "    # If month is outside the bounds of 1 to 12, return False:\n",
    "    if not (1 <= month <= 12):\n",
    "        return False\n",
    "    # After this point, you can assume the month is valid.\n",
    "\n",
    "    # If the year is a leap year and the date is Feb 29th, it is valid:\n",
    "    if leapyear.isLeapYear(year) and month == 2 and day == 29:\n",
    "        return True\n",
    "    # After this point, you can assume the year is not a leap year.\n",
    "\n",
    "    # Check for invalid dates in 31-day months:\n",
    "    if month in (1, 3, 5, 7, 8, 10, 12) and not (1 <= day <= 31):\n",
    "        return False\n",
    "    # Check for invalid dates in 30-day months:\n",
    "    elif month in (4, 6, 9, 11) and not (1 <= day <= 30):\n",
    "        return False\n",
    "    # Check for invalid dates in February:\n",
    "    elif month == 2 and not (1 <= day <= 28):\n",
    "        return False\n",
    "\n",
    "    # Date passes all checks and is valid, so return True:\n",
    "    return True\n",
    "\n",
    "\n",
    "assert isValidDate(1999, 12, 31) == True\n",
    "assert isValidDate(2000, 2, 29) == True\n",
    "assert isValidDate(2001, 2, 29) == False\n",
    "assert isValidDate(2029, 13, 1) == False\n",
    "assert isValidDate(1000000, 1, 1) == True\n",
    "assert isValidDate(2015, 4, 31) == False\n",
    "assert isValidDate(1970, 5, 99) == False\n",
    "assert isValidDate(1981, 0, 3) == False\n",
    "assert isValidDate(1666, 4, 0) == False\n",
    "\n",
    "import datetime\n",
    "d = datetime.date(1970, 1, 1)\n",
    "oneDay = datetime.timedelta(days=1)\n",
    "for i in range(1000000):\n",
    "    assert isValidDate(d.year, d.month, d.day) == True\n",
    "    d += oneDay\n"
   ]
  }
 ],
 "metadata": {
  "interpreter": {
   "hash": "552eff63ae26b1f7715ef9da8940d59e9923cc9f3696b79d9372b91e56e1a4b8"
  },
  "kernelspec": {
   "display_name": "Python 3.9.13",
   "language": "python",
   "name": "python3"
  },
  "language_info": {
   "codemirror_mode": {
    "name": "ipython",
    "version": 3
   },
   "file_extension": ".py",
   "mimetype": "text/x-python",
   "name": "python",
   "nbconvert_exporter": "python",
   "pygments_lexer": "ipython3",
   "version": "3.9.13"
  },
  "orig_nbformat": 4
 },
 "nbformat": 4,
 "nbformat_minor": 2
}
