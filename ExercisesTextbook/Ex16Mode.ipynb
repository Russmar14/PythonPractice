{
 "cells": [
  {
   "cell_type": "markdown",
   "metadata": {},
   "source": [
    "Write a mode() function that has a numbers parameter. This function returns the mode, or most frequently appearing number, of the list of integer and floating-point numbers passed to the function.\n",
    "\n",
    "Prerequisite concepts: for loops, augmented assignment operators, indexes, not in operator\n",
    "\n",
    "dictionaries are used to track \n",
    "\n",
    "I ended up using the appendix to solve this, the solution was more elegant than mine. (used lambda)"
   ]
  },
  {
   "cell_type": "code",
   "execution_count": 11,
   "metadata": {},
   "outputs": [],
   "source": [
    "def mode(numbers):\n",
    "    #check if numbers list empty\n",
    "    if len(numbers) == 0:\n",
    "        return None\n",
    "    #dictionary with keys of numbers and values of how often they appear:\n",
    "    numberCount = {}\n",
    "\n",
    "    #track the most frequent number and how often it appears:\n",
    "    mostFreqNumber = None\n",
    "    mostFreqNumberCount = 0\n",
    "\n",
    "    # Loop through all the numbers, counting how often they appear:\n",
    "    for i in numbers:\n",
    "        # If the number hasn't appeared before, set it's count to 0.\n",
    "        if i not in numberCount:\n",
    "            numberCount[i] = 0\n",
    "        #We increment numberCount each time no matter what:\n",
    "        numberCount[i] += 1\n",
    "        # If this is more frequent than the most frequent number, it\n",
    "        # becomes the new most frequent number:\n",
    "        if numberCount[i] > mostFreqNumberCount:\n",
    "            mostFreqNumber = i\n",
    "            #call value using key i on numberCount dict obj\n",
    "            mostFreqNumberCount = numberCount[i]\n",
    "    # The function returns the most frequent number:\n",
    "    return mostFreqNumber\n",
    "\n",
    "assert mode([]) == None\n",
    "assert mode([1, 2, 3, 4, 4]) == 4\n",
    "assert mode([1, 1, 2, 3, 4]) == 1\n",
    "import random\n",
    "random.seed(42)\n",
    "testData = [1, 2, 3, 4, 4]\n",
    "for i in range(1000):\n",
    "    random.shuffle(testData)\n",
    "    assert mode(testData) == 4\n",
    "\n"
   ]
  }
 ],
 "metadata": {
  "interpreter": {
   "hash": "552eff63ae26b1f7715ef9da8940d59e9923cc9f3696b79d9372b91e56e1a4b8"
  },
  "kernelspec": {
   "display_name": "Python 3.9.13",
   "language": "python",
   "name": "python3"
  },
  "language_info": {
   "codemirror_mode": {
    "name": "ipython",
    "version": 3
   },
   "file_extension": ".py",
   "mimetype": "text/x-python",
   "name": "python",
   "nbconvert_exporter": "python",
   "pygments_lexer": "ipython3",
   "version": "3.9.13"
  },
  "orig_nbformat": 4
 },
 "nbformat": 4,
 "nbformat_minor": 2
}
