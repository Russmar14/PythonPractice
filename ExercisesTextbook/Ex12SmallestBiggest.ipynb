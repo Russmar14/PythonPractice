{
 "cells": [
  {
   "cell_type": "code",
   "execution_count": 16,
   "metadata": {},
   "outputs": [
    {
     "data": {
      "text/plain": [
       "53"
      ]
     },
     "execution_count": 16,
     "metadata": {},
     "output_type": "execute_result"
    }
   ],
   "source": [
    "#Write a getSmallest() function that has a numbers parameter. The numbers \n",
    "# parameter will be a list of integer and floating-point number values. The \n",
    "# function returns the smallest value in the list. If the list is empty, the \n",
    "# function should return None. Since this function replicates Python’s min() \n",
    "# function, your solution shouldn’t use it.\n",
    "\n",
    "def getSmallest(numbers):\n",
    "    #empty check\n",
    "    if len(numbers) == 0:\n",
    "        return None\n",
    "    #first element starts as 'smallest\n",
    "    smallest = numbers[0]\n",
    "    #check all members from there if smaller, reassign smallest if so\n",
    "    for i in numbers:\n",
    "        if i < smallest:\n",
    "            smallest = i\n",
    "    return smallest\n",
    "\n",
    "assert getSmallest([1, 2, 3]) == 1\n",
    "assert getSmallest([3, 2, 1]) == 1\n",
    "assert getSmallest([28, 25, 42, 2, 28]) == 2\n",
    "assert getSmallest([1]) == 1\n",
    "assert getSmallest([]) == None\n",
    "\n",
    "def getBiggest(numbers):\n",
    "    #empty check\n",
    "    if len(numbers) == 0:\n",
    "        return None\n",
    "    #first element starts off as 'biggest'\n",
    "    biggest = numbers[0]\n",
    "    #make checks for each element of list, make change to 'biggest' if necessary\n",
    "    for i in numbers:\n",
    "        if i > biggest:\n",
    "            biggest = i\n",
    "    return biggest\n",
    "\n",
    "getBiggest([12,3,4,53,21,1,0]) \n"
   ]
  }
 ],
 "metadata": {
  "interpreter": {
   "hash": "552eff63ae26b1f7715ef9da8940d59e9923cc9f3696b79d9372b91e56e1a4b8"
  },
  "kernelspec": {
   "display_name": "Python 3.9.13",
   "language": "python",
   "name": "python3"
  },
  "language_info": {
   "codemirror_mode": {
    "name": "ipython",
    "version": 3
   },
   "file_extension": ".py",
   "mimetype": "text/x-python",
   "name": "python",
   "nbconvert_exporter": "python",
   "pygments_lexer": "ipython3",
   "version": "3.9.13"
  },
  "orig_nbformat": 4
 },
 "nbformat": 4,
 "nbformat_minor": 2
}
