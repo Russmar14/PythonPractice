{
 "cells": [
  {
   "cell_type": "markdown",
   "metadata": {},
   "source": [
    "Write an average() function that has a numbers parameter. This function returns the statistical average of the list of integer and floating-point numbers passed to the function. While Python’s built-in sum() function can help you solve this exercise, try writing the solution without using it.\n",
    "\n",
    "Passing an empty list to average() should cause it to return None."
   ]
  },
  {
   "cell_type": "code",
   "execution_count": 2,
   "metadata": {},
   "outputs": [],
   "source": [
    "def average(numbers):\n",
    "    if len(numbers) == 0:\n",
    "        return None\n",
    "    denominator = len(numbers)\n",
    "    numerator = 0\n",
    "    for i in numbers:\n",
    "        numerator += i\n",
    "    avg = numerator/denominator\n",
    "    return avg\n",
    "        \n",
    "average([12,13,2,1,3,23])\n",
    "\n",
    "assert average([1, 2, 3]) == 2\n",
    "assert average([1, 2, 3, 1, 2, 3, 1, 2, 3]) == 2\n",
    "assert average([12, 20, 37]) == 23\n",
    "assert average([0, 0, 0, 0, 0]) == 0\n",
    "import random\n",
    "random.seed(42)\n",
    "testData = [1, 2, 3, 1, 2, 3, 1, 2, 3]\n",
    "for i in range(1000):\n",
    "    random.shuffle(testData)\n",
    "    assert average(testData) == 2"
   ]
  }
 ],
 "metadata": {
  "interpreter": {
   "hash": "552eff63ae26b1f7715ef9da8940d59e9923cc9f3696b79d9372b91e56e1a4b8"
  },
  "kernelspec": {
   "display_name": "Python 3.9.13",
   "language": "python",
   "name": "python3"
  },
  "language_info": {
   "codemirror_mode": {
    "name": "ipython",
    "version": 3
   },
   "file_extension": ".py",
   "mimetype": "text/x-python",
   "name": "python",
   "nbconvert_exporter": "python",
   "pygments_lexer": "ipython3",
   "version": "3.9.13"
  },
  "orig_nbformat": 4
 },
 "nbformat": 4,
 "nbformat_minor": 2
}
