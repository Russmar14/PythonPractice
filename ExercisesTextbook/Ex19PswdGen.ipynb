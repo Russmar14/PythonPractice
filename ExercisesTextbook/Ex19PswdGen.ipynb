{
 "cells": [
  {
   "cell_type": "markdown",
   "metadata": {},
   "source": [
    "Write a generatePassword() function that has a length parameter. The length parameter is an integer of how many characters the generated password should have. For security reasons, if length is less than 12, the function forcibly sets it to 12 characters anyway. The password string returned by the function must have at least one lowercase letter, one uppercase letter, one number, and one special character. The special characters for this exercise are ~!@#$%^&*()_+.\n",
    "\n",
    "Your solution should import Python’s random module to help randomly generate these passwords."
   ]
  },
  {
   "cell_type": "code",
   "execution_count": 39,
   "metadata": {},
   "outputs": [],
   "source": [
    "import random\n",
    "\n",
    "#creating global variables for each type of character, then combining with +\n",
    "lowers = 'abcdefghijklmnopqrstuvwxyz'\n",
    "uppers = 'ABCDEFGHIJKLMNOPQRSTUVWXYZ'\n",
    "numbers = '1234567890'\n",
    "specials = '~!@#$%^&*()_+'\n",
    "characters = lowers + uppers + specials + numbers\n",
    "\n",
    "def generatePassword(length):\n",
    "    #generate 12 chr pass if input length < 12 ... for safety\n",
    "    if length < 12:\n",
    "        length = 12\n",
    "    #initialize empty password list to hold password contents\n",
    "    password = []\n",
    "    #pick one of each type for security\n",
    "    lower = lowers[random.randint(0,len(lowers))]\n",
    "    upper = uppers[random.randint(0,len(uppers))]\n",
    "    number = numbers[random.randint(0,len(numbers))]\n",
    "    special = specials[random.randint(0,len(specials))]\n",
    "    #add these to password list\n",
    "    password.append(lower)\n",
    "    password.append(upper)\n",
    "    password.append(number)\n",
    "    password.append(special)\n",
    "\n",
    "    #now iterate length-4 more times to select random characters\n",
    "    for i in range(length-4):\n",
    "        #new chr is random index btwn 0 and 75 (len of characters string)\n",
    "        chr = characters[random.randint(0,len(characters))]\n",
    "        #add it to list of password\n",
    "        password.append(chr)\n",
    "\n",
    "    #shuffle the list (in place) once we have all our characters\n",
    "    #note that we do not assign new variable name, shuffle module \n",
    "    #modifies values of list in place\n",
    "    random.shuffle(password)\n",
    "    #return list version created with .join module, '' for no separator\n",
    "    return ''.join(password)\n",
    "    \n",
    "\n",
    "#checks\n",
    "assert len(generatePassword(8)) == 12\n",
    " \n",
    "pw = generatePassword(14)\n",
    "assert len(pw) == 14\n",
    "hasLowercase = False\n",
    "hasUppercase = False\n",
    "hasNumber = False\n",
    "hasSpecial = False\n",
    "for character in pw:\n",
    "    if character in lowers:\n",
    "        hasLowercase = True\n",
    "    if character in uppers:\n",
    "        hasUppercase = True\n",
    "    if character in numbers:\n",
    "        hasNumber = True\n",
    "    if character in specials:\n",
    "        hasSpecial = True\n",
    "assert hasLowercase and hasUppercase and hasNumber and hasSpecial\n",
    "\n"
   ]
  }
 ],
 "metadata": {
  "interpreter": {
   "hash": "552eff63ae26b1f7715ef9da8940d59e9923cc9f3696b79d9372b91e56e1a4b8"
  },
  "kernelspec": {
   "display_name": "Python 3.9.13",
   "language": "python",
   "name": "python3"
  },
  "language_info": {
   "codemirror_mode": {
    "name": "ipython",
    "version": 3
   },
   "file_extension": ".py",
   "mimetype": "text/x-python",
   "name": "python",
   "nbconvert_exporter": "python",
   "pygments_lexer": "ipython3",
   "version": "3.9.13"
  },
  "orig_nbformat": 4
 },
 "nbformat": 4,
 "nbformat_minor": 2
}
