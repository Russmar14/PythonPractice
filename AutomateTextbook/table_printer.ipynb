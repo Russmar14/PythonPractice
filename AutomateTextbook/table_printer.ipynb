{
 "cells": [
  {
   "cell_type": "code",
   "execution_count": 1,
   "metadata": {},
   "outputs": [
    {
     "name": "stdout",
     "output_type": "stream",
     "text": [
      "  apples Alice  dogs \n",
      " oranges   Bob  cats \n",
      "cherries Carol moose \n",
      "  banana David goose \n"
     ]
    }
   ],
   "source": [
    "def printTable(tableData):\n",
    "    if not tableData:\n",
    "        return  # If tableData is empty, there's nothing to print\n",
    "    \n",
    "    # Initialize colWidths list with zeros for each column\n",
    "    colWidths = [0] * len(tableData)\n",
    "\n",
    "    # Iterate through each list to find the maximum width of each column\n",
    "    for i in range(len(tableData)):\n",
    "        for j in range(len(tableData[i])):\n",
    "            colWidths[i] = max(colWidths[i], len(tableData[i][j]))\n",
    "\n",
    "    # Determine the number of rows and columns in the table\n",
    "    num_rows = len(tableData[0])\n",
    "    num_cols = len(tableData)\n",
    "\n",
    "    # Print the table with columns right-justified\n",
    "    for i in range(num_rows):\n",
    "        for j in range(num_cols):\n",
    "            print(tableData[j][i].rjust(colWidths[j]), end=' ')\n",
    "        print()  # Move to the next row after printing all columns\n",
    "\n",
    "# Example data\n",
    "tableData = [\n",
    "    ['apples', 'oranges', 'cherries', 'banana'],\n",
    "    ['Alice', 'Bob', 'Carol', 'David'],\n",
    "    ['dogs', 'cats', 'moose', 'goose']\n",
    "]\n",
    "\n",
    "# Call the function with the provided data\n",
    "printTable(tableData)"
   ]
  }
 ],
 "metadata": {
  "interpreter": {
   "hash": "552eff63ae26b1f7715ef9da8940d59e9923cc9f3696b79d9372b91e56e1a4b8"
  },
  "kernelspec": {
   "display_name": "Python 3.9.13",
   "language": "python",
   "name": "python3"
  },
  "language_info": {
   "codemirror_mode": {
    "name": "ipython",
    "version": 3
   },
   "file_extension": ".py",
   "mimetype": "text/x-python",
   "name": "python",
   "nbconvert_exporter": "python",
   "pygments_lexer": "ipython3",
   "version": "3.9.13"
  },
  "orig_nbformat": 4
 },
 "nbformat": 4,
 "nbformat_minor": 2
}
