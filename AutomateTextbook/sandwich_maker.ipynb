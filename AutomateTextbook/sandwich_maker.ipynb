{
 "cells": [
  {
   "cell_type": "code",
   "execution_count": 17,
   "metadata": {},
   "outputs": [
    {
     "name": "stdout",
     "output_type": "stream",
     "text": [
      "What kind of bread?\n",
      "* wheat\n",
      "* sourdough\n",
      "* white\n",
      "* asiago bun\n",
      "What kind of protein?\n",
      "* chicken\n",
      "* ham\n",
      "* tofu\n",
      "* turkey\n",
      "Want cheese? Yes/No\n",
      "What kind of cheese? \n",
      "* mozzarella\n",
      "* provalone\n",
      "* swiss\n",
      "* cheddar\n",
      "Want lettuce? Yes/No\n",
      "Want tomato? Yes/No\n",
      "Want mayo? Yes/No\n",
      "your price is: $6.5.\n"
     ]
    }
   ],
   "source": [
    "#using pyinputplus to do input validation on a sandwich making program\n",
    "import pyinputplus as pyip\n",
    "price = 4\n",
    "#ask bread type\n",
    "pyip.inputMenu(prompt = \"What kind of bread?\\n\",choices=[\"wheat\", \"sourdough\", \"white\", \"asiago bun\"])\n",
    "#ask protein type\n",
    "pyip.inputMenu(prompt = \"What kind of protein?\\n\",choices=[\"chicken\", \"ham\", \"tofu\", \"turkey\"])\n",
    "#ask if they want cheese\n",
    "cheese_val = pyip.inputYesNo(prompt = \"Want cheese? Yes/No\\n\")\n",
    "if cheese_val == 'yes':\n",
    "    price += 1\n",
    "    pyip.inputMenu(prompt = \"What kind of cheese? \\n\",choices=[\"mozzarella\", \"provalone\", \"swiss\", \"cheddar\"])\n",
    "\n",
    "#ask if they want lettuce, tomato or mayo?\n",
    "lettuce_val = pyip.inputYesNo(prompt = \"Want lettuce? Yes/No\\n\")\n",
    "if lettuce_val == 'yes':\n",
    "    price +=.5\n",
    "tomato_val = pyip.inputYesNo(prompt = \"Want tomato? Yes/No\\n\")\n",
    "if tomato_val == 'yes':\n",
    "    price += .5\n",
    "mayo_val = pyip.inputYesNo(prompt = \"Want mayo? Yes/No\\n\")\n",
    "if mayo_val == 'yes':\n",
    "    price += .5\n",
    "print(f\"your price is: ${price}.\")\n",
    "\n",
    "\n"
   ]
  }
 ],
 "metadata": {
  "interpreter": {
   "hash": "552eff63ae26b1f7715ef9da8940d59e9923cc9f3696b79d9372b91e56e1a4b8"
  },
  "kernelspec": {
   "display_name": "Python 3.9.13",
   "language": "python",
   "name": "python3"
  },
  "language_info": {
   "codemirror_mode": {
    "name": "ipython",
    "version": 3
   },
   "file_extension": ".py",
   "mimetype": "text/x-python",
   "name": "python",
   "nbconvert_exporter": "python",
   "pygments_lexer": "ipython3",
   "version": "3.9.13"
  },
  "orig_nbformat": 4
 },
 "nbformat": 4,
 "nbformat_minor": 2
}
