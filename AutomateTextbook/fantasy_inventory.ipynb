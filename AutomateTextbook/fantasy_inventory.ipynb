{
 "cells": [
  {
   "cell_type": "code",
   "execution_count": 21,
   "metadata": {},
   "outputs": [],
   "source": [
    "#https://automatetheboringstuff.com/2e/chapter5/\n",
    "#fantasy inventory function that prints inventory stored in dictionary\n"
   ]
  },
  {
   "cell_type": "code",
   "execution_count": 22,
   "metadata": {},
   "outputs": [
    {
     "name": "stdout",
     "output_type": "stream",
     "text": [
      "Inventory:\n",
      "rope: 1 \n",
      "torch: 6 \n",
      "gold coin: 42 \n",
      "dagger: 1 \n",
      "arrow: 12 \n",
      "Total number items: 62.\n"
     ]
    }
   ],
   "source": [
    "stuff = {'rope': 1, 'torch': 6, 'gold coin': 42, 'dagger': 1, 'arrow': 12}\n",
    "def displayInventory(players_stuff):\n",
    "    print(\"Inventory:\")\n",
    "    item_total = 0\n",
    "    for k, v in players_stuff.items():\n",
    "        print(f\"{k}: {v} \")\n",
    "        item_total += v\n",
    "\n",
    "    print(f\"Total number items: {item_total}.\")\n",
    "    \n",
    "\n",
    "displayInventory(stuff)\n",
    "\n",
    "\n",
    "\n"
   ]
  },
  {
   "cell_type": "code",
   "execution_count": 23,
   "metadata": {},
   "outputs": [
    {
     "name": "stdout",
     "output_type": "stream",
     "text": [
      "Inventory:\n",
      "gold coin: 45 \n",
      "rope: 1 \n",
      "dagger: 1 \n",
      "ruby: 1 \n",
      "Total number items: 48.\n"
     ]
    }
   ],
   "source": [
    "#new inventory function list to dictionary\n",
    "\n",
    "\n",
    "def addToInventory(inventory, addedItems):\n",
    "    for i in addedItems:\n",
    "        inventory[i] = inventory.get(i, 0) + 1\n",
    "    return inventory\n",
    "\n",
    "inv = {'gold coin': 42, 'rope': 1}\n",
    "dragonLoot = ['gold coin', 'dagger', 'gold coin', 'gold coin', 'ruby']\n",
    "inv = addToInventory(inv, dragonLoot)\n",
    "displayInventory(inv)"
   ]
  },
  {
   "cell_type": "code",
   "execution_count": 25,
   "metadata": {},
   "outputs": [
    {
     "name": "stdout",
     "output_type": "stream",
     "text": [
      "Hello!\n"
     ]
    }
   ],
   "source": []
  }
 ],
 "metadata": {
  "interpreter": {
   "hash": "552eff63ae26b1f7715ef9da8940d59e9923cc9f3696b79d9372b91e56e1a4b8"
  },
  "kernelspec": {
   "display_name": "Python 3.9.13",
   "language": "python",
   "name": "python3"
  },
  "language_info": {
   "codemirror_mode": {
    "name": "ipython",
    "version": 3
   },
   "file_extension": ".py",
   "mimetype": "text/x-python",
   "name": "python",
   "nbconvert_exporter": "python",
   "pygments_lexer": "ipython3",
   "version": "3.9.13"
  },
  "orig_nbformat": 4
 },
 "nbformat": 4,
 "nbformat_minor": 2
}
